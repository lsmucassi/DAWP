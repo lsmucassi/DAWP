{
 "cells": [
  {
   "cell_type": "markdown",
   "metadata": {},
   "source": [
    "# Built-in Data Types in Python\n",
    "> Data types are a fundamental concept in the Python programming language. In Python, each value has its own Python data type. The classification of data items or placing data values ​​into some data category is called a data type. It helps to understand what types of operations can be performed on values. In the Python programming language, everything is an object. Data types in Python represent classes. Objects or instances of these classes are called variables. Let us now discuss the different types of data types in Python.\n",
    "\n",
    "We will look at these data types:\n",
    "1. Numeric Types: complex, float, int\n",
    "2. Boolean Type: bool\n",
    "3. Set Types: frozenset, set\n",
    "4. Mapping Type: dict\n",
    "5. Sequence Types: range, tuple, list\n",
    "6. Text Type: str\n",
    "\n",
    "More data types\n",
    "- Binary Types: memoryview, bytearray, bytes"
   ]
  },
  {
   "cell_type": "markdown",
   "metadata": {},
   "source": [
    "### 1. Numeric Types: complex, float, int"
   ]
  },
  {
   "cell_type": "code",
   "execution_count": null,
   "metadata": {},
   "outputs": [],
   "source": [
    "# Create a variable and store a complex data type in it\n",
    "complex_var = ...\n",
    "# Print the variable\n",
    "...\n",
    "# Print the type of variable\n",
    "..."
   ]
  },
  {
   "cell_type": "code",
   "execution_count": null,
   "metadata": {},
   "outputs": [],
   "source": [
    "# Create a variable and store a float data type in it\n",
    "float_var = ...\n",
    "# Print the variable\n",
    "...\n",
    "# Print the type of variable\n",
    "..."
   ]
  },
  {
   "cell_type": "code",
   "execution_count": null,
   "metadata": {},
   "outputs": [],
   "source": [
    "# Create a variable and store an int data type in it\n",
    "int_var = ...\n",
    "# Print the variable\n",
    "...\n",
    "# Print the type of variable\n",
    "..."
   ]
  },
  {
   "cell_type": "markdown",
   "metadata": {},
   "source": [
    "### 2. Boolean Type: bool"
   ]
  },
  {
   "cell_type": "code",
   "execution_count": null,
   "metadata": {},
   "outputs": [],
   "source": [
    "# Create a variable and store a boolean data type in it\n",
    "bool_var = ...\n",
    "# Print the variable\n",
    "...\n",
    "# Print the type of variable\n",
    "..."
   ]
  },
  {
   "cell_type": "markdown",
   "metadata": {},
   "source": [
    "### 3. Set Types: frozenset, set"
   ]
  },
  {
   "cell_type": "code",
   "execution_count": null,
   "metadata": {},
   "outputs": [],
   "source": [
    "# Create a variable and store a frozen set data type in it\n",
    "froset_var = ...\n",
    "# Print the variable\n",
    "...\n",
    "# Print the type of variable\n",
    "..."
   ]
  },
  {
   "cell_type": "code",
   "execution_count": null,
   "metadata": {},
   "outputs": [],
   "source": [
    "# Create a variable and store a set data type in it\n",
    "set_var = ...\n",
    "# Print the variable\n",
    "...\n",
    "# Print the type of variable\n",
    "..."
   ]
  },
  {
   "cell_type": "markdown",
   "metadata": {},
   "source": [
    "### 4. Mapping Type: dict"
   ]
  },
  {
   "cell_type": "code",
   "execution_count": null,
   "metadata": {},
   "outputs": [],
   "source": [
    "# Create a variable and store a dict data type in it\n",
    "dict_var = ...\n",
    "# Print the variable\n",
    "...\n",
    "# Print the type of variable\n",
    "..."
   ]
  },
  {
   "cell_type": "markdown",
   "metadata": {},
   "source": [
    "\n",
    "### 5. Sequence Types: range, tuple, list"
   ]
  },
  {
   "cell_type": "code",
   "execution_count": null,
   "metadata": {},
   "outputs": [],
   "source": [
    "# Create a variable and store a range data type in it\n",
    "range_var = ...\n",
    "# Print the variable\n",
    "...\n",
    "# Print the type of variable\n",
    "..."
   ]
  },
  {
   "cell_type": "code",
   "execution_count": null,
   "metadata": {},
   "outputs": [],
   "source": [
    "# Create a variable and store a tuple data type in it\n",
    "tuple_var = ...\n",
    "# Print the variable\n",
    "...\n",
    "# Print the type of variable\n",
    "..."
   ]
  },
  {
   "cell_type": "code",
   "execution_count": null,
   "metadata": {},
   "outputs": [],
   "source": [
    "# Create a variable and store a list data type in it\n",
    "list_var = ...\n",
    "# Print the variable\n",
    "...\n",
    "# Print the type of variable\n",
    "..."
   ]
  },
  {
   "cell_type": "markdown",
   "metadata": {},
   "source": [
    "### 6. Text Type: str"
   ]
  },
  {
   "cell_type": "code",
   "execution_count": null,
   "metadata": {},
   "outputs": [
    {
     "ename": "",
     "evalue": "",
     "output_type": "error",
     "traceback": [
      "\u001b[1;31mFailed to start the Kernel. \n",
      "Kernel Python 3.8.9 64-bit is not usable. Check the Jupyter output tab for more information. \n",
      "View Jupyter <a href='command:jupyter.viewOutput'>log</a> for further details."
     ]
    }
   ],
   "source": [
    "# Create a variable and store a string data type in it\n",
    "string_var = ...\n",
    "# Print the variable\n",
    "...\n",
    "# Print the type of variable\n",
    "..."
   ]
  },
  {
   "cell_type": "code",
   "execution_count": null,
   "metadata": {},
   "outputs": [],
   "source": []
  }
 ],
 "metadata": {
  "interpreter": {
   "hash": "31f2aee4e71d21fbe5cf8b01ff0e069b9275f58929596ceb00d14d90e3e16cd6"
  },
  "kernelspec": {
   "display_name": "Python 3.8.9 64-bit",
   "language": "python",
   "name": "python3"
  },
  "language_info": {
   "name": "python",
   "version": "3.8.9"
  },
  "orig_nbformat": 4
 },
 "nbformat": 4,
 "nbformat_minor": 2
}
