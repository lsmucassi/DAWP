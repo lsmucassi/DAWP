{
 "cells": [
  {
   "cell_type": "markdown",
   "metadata": {},
   "source": [
    "# DATA STRUCTURES\n",
    "\n",
    "Data Structures are a specific method of arranging and storing data in computers so that we can execute more efficient operations on the data. Data structures are used in a wide range of fields, including Computer Science and Software Engineering.\n",
    "\n",
    "In this course we will look into the following Data Structures:\n",
    "1. Lists \n",
    "2. Dictionaries, Maps, and Hash Tables\n",
    "3. Records, Structs, and Data Transfer Objects\n",
    "4. Records, Structs, and Data Transfer Objects\n",
    "5. Stacks (LIFOs)\n",
    "6. Queues (FIFOs)\n",
    "7. Priority Queues\n",
    "8. Conclusion: Python Data Structures\n",
    "\n",
    "In the previouse task you were introduced to dat types, data types helps us understand the nature of data, but as you may have seen, we can only store one type of data in most variable, i.e: only whole numbers can be stored in an int variable, and so to the other types, excluding a dictionary, set, tuple and a list.\n",
    "\n",
    "In programming you will be faced with a lot of challenges that requires you to group data of different types, in this part of the course we will explore techniques and tools that python provides for us to accomplish or solve such problems"
   ]
  },
  {
   "cell_type": "markdown",
   "metadata": {},
   "source": [
    "### Lists\n",
    "The elements of a list are enclosed in square brackets [] and separated by commas. There can be any number of entries in a list, and they can be of many types (integer, float, string, etc.). Another list can be included as an item in a list. This is referred to as a nested list.\n",
    "\n",
    "Complete the below Tasks:\n"
   ]
  },
  {
   "cell_type": "markdown",
   "metadata": {},
   "source": [
    "Given the List A  = [324, 56, 3, 67, 89, 91, 28, 832, 8, 76, 73]"
   ]
  },
  {
   "cell_type": "code",
   "execution_count": null,
   "metadata": {},
   "outputs": [],
   "source": [
    "nums  = [324, 56, 3, 67, 89, 91, 28, 832, 8, 76, 73, 56, 65, 91, 76, 3, 2]\n",
    "\n",
    "'''\n",
    "TASK 1:\n",
    "    - Write a program to calculate the sum of all the items in the list\n",
    "    - Write a program to calculate the multiplication of all the items in the list\n",
    "'''\n",
    "# Your Solution Below\n",
    "\n",
    "# print the sum results\n",
    "\n",
    "# print the multiplication results\n"
   ]
  },
  {
   "cell_type": "code",
   "execution_count": null,
   "metadata": {},
   "outputs": [],
   "source": [
    "'''\n",
    "TASK 2:\n",
    "    - Write a program to get the largest number in the list\n",
    "    - Write a program to get the smallest number in the list\n",
    "'''\n",
    "# Your Solution Below\n",
    "\n",
    "# print the largest number\n",
    "\n",
    "# print the smallest number\n"
   ]
  },
  {
   "cell_type": "code",
   "execution_count": null,
   "metadata": {},
   "outputs": [],
   "source": [
    "'''\n",
    "TASK 3:\n",
    "    - Write a program to remove all duplicated items from the list\n",
    "'''\n",
    "# Your Solution Below\n",
    "\n",
    "\n",
    "# print the new list with no duplicates\n"
   ]
  },
  {
   "cell_type": "code",
   "execution_count": null,
   "metadata": {},
   "outputs": [],
   "source": [
    "list_a = ['a', 'g', 't', 'y', 'u', 'k']\n",
    "list_b = ['a', 'g', 'y', 'u', 'd', 'l']\n",
    "'''\n",
    "TASK 4:\n",
    "    - Write a Python program to find missing and additional values in two lists\n",
    "\n",
    "'''\n",
    "# Your Solution Below\n",
    "\n",
    "# print the ladditional or missing\n"
   ]
  },
  {
   "cell_type": "code",
   "execution_count": null,
   "metadata": {},
   "outputs": [],
   "source": [
    "\n",
    "list_b = [23, 'Terminals', 3j, 42, 82, 'Rock', 76.24, 59, 238, 51, \"HitchHicker\", 87.34, 4.5, 6j, 'Galaxy']\n",
    "''' \n",
    "TASK 4:\n",
    "    - Write a program that will create lists from a list, grouping all similar types in each list from the given list\n",
    "\n",
    "'''\n",
    "# Your Solution Below\n",
    "\n",
    "# print the ladditional or missing"
   ]
  },
  {
   "cell_type": "markdown",
   "metadata": {},
   "source": [
    "There are more exercises you can do for your own knowlwdge \n",
    "- Sort a list in ascending and descending order\n",
    "- Find a specific elemnt in a list (search)\n",
    "- Find an index of a specific element in a list\n",
    "\n",
    "I would recommend that you attemp solving these challenges: https://leetcode.com/tag/linked-list/"
   ]
  },
  {
   "cell_type": "markdown",
   "metadata": {},
   "source": [
    "### Dictionaries\n",
    "A dictionary is a Python container that maintains mappings of unique keys to values in an unordered and mutable way. Curly brackets {} are used to define dictionaries, which include key-value pairs separated by commas i.e: {key: value, key: value}. Each key is separated from its value by a colon (:).\n",
    "\n",
    "\n"
   ]
  },
  {
   "cell_type": "markdown",
   "metadata": {},
   "source": []
  }
 ],
 "metadata": {
  "language_info": {
   "name": "python"
  },
  "orig_nbformat": 4
 },
 "nbformat": 4,
 "nbformat_minor": 2
}
