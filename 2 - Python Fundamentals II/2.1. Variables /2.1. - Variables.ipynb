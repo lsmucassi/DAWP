{
 "cells": [
  {
   "cell_type": "markdown",
   "metadata": {},
   "source": [
    "# VARIABLES\n",
    "\n",
    "A variable is an abstract storage space linked with a symbolic name in computer programming that stores some known or unknown quantity of information referred to as a value; or, to put it another way, a variable is a container for a specific set of bits or type of data (like integer, float, String etc...). \n",
    "\n",
    "A memory address can eventually be linked to or identified with a variable. In addition to referring to the variable itself, the variable name is the most common way to refer to the stored value, depending on the context. Because the name and content are separated, the name can be utilized independently of the information it represents. During runtime, the identifier in computer source code can be bound to a value, and the value of the variable may thus change during the course of program execution.\n",
    "\n",
    "If the defination above does not make any sense then let's d a practical exploration of this concept. "
   ]
  },
  {
   "cell_type": "markdown",
   "metadata": {},
   "source": [
    "EXCERCISE:\n",
    "\n",
    "Open the file variables.py located in this current folder and try to fill in the missing code."
   ]
  },
  {
   "cell_type": "markdown",
   "metadata": {},
   "source": []
  }
 ],
 "metadata": {
  "language_info": {
   "name": "python"
  },
  "orig_nbformat": 4
 },
 "nbformat": 4,
 "nbformat_minor": 2
}
