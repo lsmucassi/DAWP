{
 "cells": [
  {
   "cell_type": "markdown",
   "metadata": {},
   "source": [
    "# VARIABLES\n",
    "\n",
    "A variable is an abstract storage space linked with a symbolic name in computer programming that stores some known or unknown quantity of information referred to as a value; or, to put it another way, a variable is a container for a specific set of bits or type of data (like integer, float, String etc...). \n",
    "\n",
    "A memory address can eventually be linked to or identified with a variable. In addition to referring to the variable itself, the variable name is the most common way to refer to the stored value, depending on the context. Because the name and content are separated, the name can be utilized independently of the information it represents. During runtime, the identifier in computer source code can be bound to a value, and the value of the variable may thus change during the course of program execution.\n",
    "\n",
    "If the defination above does not make any sense then let's d a practical exploration of this concept. "
   ]
  },
  {
   "cell_type": "markdown",
   "metadata": {},
   "source": [
    "As explained before, Variables are containers for storing data values.\n",
    "We can create a variable by giving it a name and store any value we want.\n",
    "We get to choose the name of the variable.\n",
    "It is always advised that a variables name must describe the kind of value it will store \n",
    "or describe the function it will serve"
   ]
  },
  {
   "cell_type": "code",
   "execution_count": 2,
   "metadata": {},
   "outputs": [
    {
     "data": {
      "text/plain": [
       "'LINDA MUCASSI'"
      ]
     },
     "execution_count": 2,
     "metadata": {},
     "output_type": "execute_result"
    }
   ],
   "source": [
    "# Example:\n",
    "name = \"LINDA MUCASSI\"\n",
    "name"
   ]
  },
  {
   "cell_type": "markdown",
   "metadata": {},
   "source": [
    "On the above code, the varianble name is created, this is called declaration in computer science\n",
    "After that a value is assigned to the variable, the value is the string \"LINDA MUCASSI\", \n",
    "this way of creating a variable is called \"initialization\"\n",
    "\n",
    "In python when creating a variable you do not need to specify the kind of value that will be stored,\n",
    "by giving it a value python will know the data type of the variable, in the exxample above the variable is a string,\n",
    "\n",
    "TASK 1:\n",
    "\n",
    "1. Create 5 variables and store the following values, make sure to nasme them proparly\n",
    "    - 42\n",
    "    - 84.106\n",
    "    - \"May The Code Be With Me!\"\n",
    "    - \"TheTerminal School Rocks\"\n",
    "    - \"T\"\n",
    "2. Print out all the variables you created\n"
   ]
  },
  {
   "cell_type": "code",
   "execution_count": 4,
   "metadata": {},
   "outputs": [],
   "source": [
    "__ = 42\n",
    "__ = 84.106\n",
    "__ = \"May The Code Be With Me!\"\n",
    "__ = \"TheTerminal School Rocks\"\n",
    "__ = \"T\""
   ]
  },
  {
   "cell_type": "markdown",
   "metadata": {},
   "source": [
    "TASK 2:\n",
    "\n",
    "Just by looking at these variable names, specify what values can be stored for each"
   ]
  },
  {
   "cell_type": "code",
   "execution_count": 5,
   "metadata": {},
   "outputs": [],
   "source": [
    "student = __# your answer here\n",
    "students = __ # your answer here\n",
    "age = __# your answer here\n",
    "year = __# your answer here\n",
    "num_of_pupils = __# your answer here"
   ]
  },
  {
   "cell_type": "markdown",
   "metadata": {},
   "source": [
    "RULES:\n",
    "\n",
    "As you may have seen, we as the programmer decide the name of the variable, but every programming language \n",
    "has names that are reserved for specific use for the compiler, so we need to know how to name variables"
   ]
  },
  {
   "cell_type": "code",
   "execution_count": 7,
   "metadata": {},
   "outputs": [
    {
     "ename": "SyntaxError",
     "evalue": "invalid decimal literal (1287600041.py, line 2)",
     "output_type": "error",
     "traceback": [
      "\u001b[0;36m  Input \u001b[0;32mIn [7]\u001b[0;36m\u001b[0m\n\u001b[0;31m    42_names = \"A list of 42 names\"\u001b[0m\n\u001b[0m      ^\u001b[0m\n\u001b[0;31mSyntaxError\u001b[0m\u001b[0;31m:\u001b[0m invalid decimal literal\n"
     ]
    }
   ],
   "source": [
    "# Variables can not start with a number\n",
    "42_names = \"A list of 42 names\"\n",
    "\n",
    "# A variable can not be numbers only\n",
    "42 = 42\n",
    "\n",
    "# A variable can not be named after key/reserved words\n",
    "# a list of python's keywords https://realpython.com/lessons/reserved-keywords/\n",
    "False = \"True\"\n",
    "for = \"let's loop\"\n",
    "pass = \"we move on\"\n",
    "else = \"you get the point, right?\"\n",
    "\n",
    "# A variable can not consist of special characters\n",
    "num_of_% = 42%\n",
    "\n",
    "# A variable can consiste of numbers at the end only\n",
    "school1 = \"The first ever school\"\n",
    "file_2 = \"second file\"\n"
   ]
  },
  {
   "cell_type": "markdown",
   "metadata": {},
   "source": [
    "Other rules are not really rules but a way of writing code, as we have read the Zen of Python, naming\n",
    "variables also means we need to make sure our code is readable, and at the same time we do not complicate our code\n",
    "\n",
    "TASK 3:\n",
    "\n",
    "Determine which variables are well names and which ones are not\n",
    "\n"
   ]
  },
  {
   "cell_type": "code",
   "execution_count": 8,
   "metadata": {},
   "outputs": [
    {
     "ename": "SyntaxError",
     "evalue": "invalid syntax (2844665389.py, line 13)",
     "output_type": "error",
     "traceback": [
      "\u001b[0;36m  Input \u001b[0;32mIn [8]\u001b[0;36m\u001b[0m\n\u001b[0;31m    3x = 45\u001b[0m\n\u001b[0m     ^\u001b[0m\n\u001b[0;31mSyntaxError\u001b[0m\u001b[0;31m:\u001b[0m invalid syntax\n"
     ]
    }
   ],
   "source": [
    "number_of_students_per_course = 1987\n",
    "# is this variabkle name good or bad?\n",
    "\n",
    "todays_date = \"What day is it again?\"\n",
    "# is this variabkle name good or bad?\n",
    "\n",
    "x = 4\n",
    "# is this variabkle name good or bad?\n",
    "\n",
    "x_2 = 2\n",
    "# is this variabkle name good or bad?\n",
    "\n",
    "3x = 45\n",
    "# is this variabkle name good or bad?\n",
    "\n",
    "temparature_in_degrees_celcius = 34\n",
    "# is this variabkle name good or bad?\n",
    "\n",
    "temparature = 54\n",
    "# is this variabkle name good or bad?\n"
   ]
  },
  {
   "cell_type": "markdown",
   "metadata": {},
   "source": [
    "This is just an introduction to variables, there is clearly a lot that one can learn and play around with variables\n",
    "\n",
    "For instead, how to initialize variables in a chain\n",
    "name, surname = \"Linda\", \"MUCASSI\"\n",
    "\n",
    "Also, explore how to store values to a variable from a different variable, but we shall cover more as we proceed\n"
   ]
  },
  {
   "cell_type": "markdown",
   "metadata": {},
   "source": []
  }
 ],
 "metadata": {
  "interpreter": {
   "hash": "31f2aee4e71d21fbe5cf8b01ff0e069b9275f58929596ceb00d14d90e3e16cd6"
  },
  "kernelspec": {
   "display_name": "Python 3.8.9 64-bit",
   "language": "python",
   "name": "python3"
  },
  "language_info": {
   "codemirror_mode": {
    "name": "ipython",
    "version": 3
   },
   "file_extension": ".py",
   "mimetype": "text/x-python",
   "name": "python",
   "nbconvert_exporter": "python",
   "pygments_lexer": "ipython3",
   "version": "3.8.9"
  },
  "orig_nbformat": 4
 },
 "nbformat": 4,
 "nbformat_minor": 2
}
