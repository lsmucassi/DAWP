{
 "cells": [
  {
   "cell_type": "markdown",
   "metadata": {},
   "source": [
    "# DATA TYPES\n",
    "\n",
    "Now that we can store values in a container, it is time we get to interact and manipulate the values in tthe variables, but to do that we need to understand data types.\n",
    "\n",
    "A data type, or simply type, is a characteristic of data that tells the compiler or interpreter how the programmer intends to utilize the data in computer science and programming. Integer numbers (of various sizes), floating-point numbers (which resemble real numbers), characters, and Booleans are all supported by most computer languages. A data type limits the possible values for an expression, such as a variable or a function. This data type specifies the actions that can be performed on the data, as well as the data's meaning and storage options. A data type is a collection of values from which an expression (variable, function, and so on) can derive its values.\n"
   ]
  }
 ],
 "metadata": {
  "language_info": {
   "name": "python"
  },
  "orig_nbformat": 4
 },
 "nbformat": 4,
 "nbformat_minor": 2
}
