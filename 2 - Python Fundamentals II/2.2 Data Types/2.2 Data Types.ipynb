{
 "cells": [
  {
   "cell_type": "markdown",
   "metadata": {},
   "source": [
    "# DATA TYPES\n",
    "\n",
    "Now that we can store values in a container, it is time we get to interact and manipulate the values in tthe variables, but to do that we need to understand data types.\n",
    "\n",
    "A data type, or simply type, is a characteristic of data that tells the compiler or interpreter how the programmer intends to utilize the data in computer science and programming. Integer numbers (of various sizes), floating-point numbers (which resemble real numbers), characters, and Booleans are all supported by most computer languages. A data type limits the possible values for an expression, such as a variable or a function. This data type specifies the actions that can be performed on the data, as well as the data's meaning and storage options. A data type is a collection of values from which an expression (variable, function, and so on) can derive its values.\n",
    "\n",
    "We will look at these data types:\n",
    "1. Numeric Types: complex, float, int\n",
    "2. Boolean Type: bool\n",
    "3. Set Types: frozenset, set\n",
    "4. Mapping Type: dict\n",
    "5. Sequence Types: range, tuple, list\n",
    "6. Text Type: str\n",
    "\n",
    "More data types\n",
    "- Binary Types: memoryview, bytearray, bytes"
   ]
  },
  {
   "cell_type": "markdown",
   "metadata": {},
   "source": [
    "## TASK 1:\n",
    "\n",
    "Fill in the missing code\n",
    "\n",
    "### 1. Numeric Types: complex, float, int"
   ]
  },
  {
   "cell_type": "code",
   "execution_count": null,
   "metadata": {},
   "outputs": [],
   "source": [
    "# Create a variable and store a complex data type in it\n",
    "complex_var = ...\n",
    "# Print the variable\n",
    "...\n",
    "# Print the type of variable\n",
    "..."
   ]
  },
  {
   "cell_type": "code",
   "execution_count": null,
   "metadata": {},
   "outputs": [],
   "source": [
    "# Create a variable and store a float data type in it\n",
    "float_var = ...\n",
    "# Print the variable\n",
    "...\n",
    "# Print the type of variable\n",
    "..."
   ]
  },
  {
   "cell_type": "code",
   "execution_count": null,
   "metadata": {},
   "outputs": [],
   "source": [
    "# Create a variable and store an int data type in it\n",
    "int_var = ...\n",
    "# Print the variable\n",
    "...\n",
    "# Print the type of variable\n",
    "..."
   ]
  },
  {
   "cell_type": "markdown",
   "metadata": {},
   "source": [
    "### 2. Boolean Type: bool"
   ]
  },
  {
   "cell_type": "code",
   "execution_count": null,
   "metadata": {},
   "outputs": [],
   "source": [
    "# Create a variable and store a boolean data type in it\n",
    "bool_var = ...\n",
    "# Print the variable\n",
    "...\n",
    "# Print the type of variable\n",
    "..."
   ]
  },
  {
   "cell_type": "markdown",
   "metadata": {},
   "source": [
    "### 3. Set Types: frozenset, set"
   ]
  },
  {
   "cell_type": "code",
   "execution_count": null,
   "metadata": {},
   "outputs": [],
   "source": [
    "# Create a variable and store a frozen set data type in it\n",
    "froset_var = ...\n",
    "# Print the variable\n",
    "...\n",
    "# Print the type of variable\n",
    "..."
   ]
  },
  {
   "cell_type": "code",
   "execution_count": null,
   "metadata": {},
   "outputs": [],
   "source": [
    "# Create a variable and store a set data type in it\n",
    "set_var = ...\n",
    "# Print the variable\n",
    "...\n",
    "# Print the type of variable\n",
    "..."
   ]
  },
  {
   "cell_type": "markdown",
   "metadata": {},
   "source": [
    "### 4. Mapping Type: dict"
   ]
  },
  {
   "cell_type": "code",
   "execution_count": null,
   "metadata": {},
   "outputs": [],
   "source": [
    "# Create a variable and store a dict data type in it\n",
    "dict_var = ...\n",
    "# Print the variable\n",
    "...\n",
    "# Print the type of variable\n",
    "..."
   ]
  },
  {
   "cell_type": "markdown",
   "metadata": {},
   "source": [
    "### 5. Sequence Types: range, tuple, list\n"
   ]
  },
  {
   "cell_type": "code",
   "execution_count": null,
   "metadata": {},
   "outputs": [],
   "source": [
    "# Create a variable and store a range data type in it\n",
    "range_var = ...\n",
    "# Print the variable\n",
    "...\n",
    "# Print the type of variable\n",
    "..."
   ]
  },
  {
   "cell_type": "code",
   "execution_count": null,
   "metadata": {},
   "outputs": [],
   "source": [
    "# Create a variable and store a tuple data type in it\n",
    "tuple_var = ...\n",
    "# Print the variable\n",
    "...\n",
    "# Print the type of variable\n",
    "..."
   ]
  },
  {
   "cell_type": "code",
   "execution_count": null,
   "metadata": {},
   "outputs": [],
   "source": [
    "# Create a variable and store a list data type in it\n",
    "list_var = ...\n",
    "# Print the variable\n",
    "...\n",
    "# Print the type of variable\n",
    "..."
   ]
  },
  {
   "cell_type": "markdown",
   "metadata": {},
   "source": [
    "### 6. Text Type: str"
   ]
  },
  {
   "cell_type": "code",
   "execution_count": null,
   "metadata": {},
   "outputs": [],
   "source": [
    "# Create a variable and store a string data type in it\n",
    "string_var = ...\n",
    "# Print the variable\n",
    "...\n",
    "# Print the type of variable\n",
    "..."
   ]
  }
 ],
 "metadata": {
  "language_info": {
   "name": "python"
  },
  "orig_nbformat": 4
 },
 "nbformat": 4,
 "nbformat_minor": 2
}
