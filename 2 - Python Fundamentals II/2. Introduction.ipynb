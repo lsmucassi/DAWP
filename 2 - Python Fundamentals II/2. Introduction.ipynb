{
 "cells": [
  {
   "cell_type": "markdown",
   "metadata": {},
   "source": [
    "# Python Fundamentals II\n",
    "\n",
    "So far most of the things we were doing were on the terminal, as you might have seen, \n",
    "writing code on the python shell is not ideal as there is no concept of file system perse, \n",
    "what you do there will be lost as soon as you exit the shell, \n",
    "in this task we will be writing code on files and executing the code on te files\n",
    "\n",
    "\n",
    "In this Lecture, we will focus on five key aspects of programming, for us to be able to analyze data we need to be fluent and comfortable with the tools we use, one is Python. Welcome to Basic Python Programming.\n",
    "\n",
    "Topics to be covered:\n",
    "- Variables\n",
    "- Data types\n",
    "- Data Structures\n",
    "- Control Flow\n",
    "- Functions\n",
    "- I/O & Error Handling\n",
    "- For the sake and nature of this course, we will not cover advanced topics such as classes\n",
    "\n",
    "Pre-requisites:\n",
    "Go on and clone this repository or fork it to start working ion the practical part of the Lectures\n",
    "\n",
    "\n",
    "All our code will be done in jupyter notebooks, if you have never wriitten code in a python file please follow this tutorial:\n",
    "   - https://realpython.com/run-python-scripts/#:~:text=To%20run%20Python%20scripts%20with,python3%20hello.py%20Hello%20World!\n",
    "\n",
    " What is a JUPYTER NOTEBOOK?\n",
    "   - Jupyter Notebook provides you with an easy-to-use, interactive data science environment across many programming languages that doesn't only work as an IDE, but also as a presentation or education tool. It's perfect for those who are just starting out with data science! (https://www.datacamp.com/community/tutorials/data-science-python-ide)\n",
    "\n"
   ]
  },
  {
   "cell_type": "markdown",
   "metadata": {},
   "source": [
    "On the repository head to: \"2 - Python Fundamentals II\" > \"2.1 Variables\" folder to get started."
   ]
  },
  {
   "cell_type": "markdown",
   "metadata": {},
   "source": []
  }
 ],
 "metadata": {
  "language_info": {
   "name": "python"
  },
  "orig_nbformat": 4
 },
 "nbformat": 4,
 "nbformat_minor": 2
}
