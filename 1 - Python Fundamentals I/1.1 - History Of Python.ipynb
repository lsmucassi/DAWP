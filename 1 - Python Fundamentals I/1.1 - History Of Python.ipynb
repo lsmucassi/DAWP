{
 "cells": [
  {
   "cell_type": "markdown",
   "metadata": {},
   "source": [
    "# HISTORY OF PYTHON\n",
    "\n",
    "Python was developed in the late 1980s, and its implementation began in December 1989 at CWI in the Netherlands by Guido van Rossum as a successor to ABC language, capable of handling exceptions and interacting with the Amoeba operating system. Van Rossum is Python's primary author, and the Python community has given him the moniker Benevolent Dictator for Life to emphasize his continuing prominent role in determining Python's path (BDFL), (However, on July 12, 2018, van Rossum resigned as leader.). Python was called after Monty Python's Flying Circus, a BBC television show.\n",
    "\n",
    "On October 16, 2000, Python 2.0 was launched, with a number of key new features, including a cycle-detecting garbage collector (in addition to reference counting) for memory management.\n",
    "\n",
    "\n",
    "\n",
    "Python 3.0 (also called \"Python 3000\" or \"Py3K\") was released on December 3, 2008. It was designed to rectify fundamental design flaws in the language—the changes required could not be implemented while retaining full backward compatibility with the 2.x series, which necessitated a new major version number. The guiding principle of Python 3 was: \"reduce feature duplication by removing old ways of doing things\".\n",
    "\n",
    "Python 3.0 was developed with the same philosophy as in prior versions. However, as Python had accumulated new and redundant ways to program the same task, Python 3.0 had an emphasis on removing duplicative constructs and modules, in keeping with \"There should be one— and preferably only one —obvious way to do it\". \n",
    "\n",
    "more at Wikipedia\n",
    "\n",
    "Why was it created?\n",
    "Python was created to make software be easily portable between operating systems, so instead of relying heavily on shell scripting,  Python can instead be used, also, Python's OOP features make it a contender to beat out Java, and C++."
   ]
  },
  {
   "cell_type": "markdown",
   "metadata": {},
   "source": [
    "# THE ZEN OF PYTHON\n",
    "> A Beautiful Poem. in code\n",
    "\n",
    "You can read or use the python poem at any time if you run the python shell on your terminal/console and run this command"
   ]
  },
  {
   "cell_type": "code",
   "execution_count": 1,
   "metadata": {},
   "outputs": [
    {
     "name": "stdout",
     "output_type": "stream",
     "text": [
      "The Zen of Python, by Tim Peters\n",
      "\n",
      "Beautiful is better than ugly.\n",
      "Explicit is better than implicit.\n",
      "Simple is better than complex.\n",
      "Complex is better than complicated.\n",
      "Flat is better than nested.\n",
      "Sparse is better than dense.\n",
      "Readability counts.\n",
      "Special cases aren't special enough to break the rules.\n",
      "Although practicality beats purity.\n",
      "Errors should never pass silently.\n",
      "Unless explicitly silenced.\n",
      "In the face of ambiguity, refuse the temptation to guess.\n",
      "There should be one-- and preferably only one --obvious way to do it.\n",
      "Although that way may not be obvious at first unless you're Dutch.\n",
      "Now is better than never.\n",
      "Although never is often better than *right* now.\n",
      "If the implementation is hard to explain, it's a bad idea.\n",
      "If the implementation is easy to explain, it may be a good idea.\n",
      "Namespaces are one honking great idea -- let's do more of those!\n"
     ]
    }
   ],
   "source": [
    "import this"
   ]
  },
  {
   "cell_type": "markdown",
   "metadata": {},
   "source": [
    "## What is it all about?\n",
    "\n",
    "Basically, these principles are just that: beliefs that can be argued for or against. They sometimes contradict themselves to provide the most flexibility, as do all good sets of moral norms. Here's how I put these aphorisms together:\n",
    "\n",
    "### Beautiful is better than ugly.\n",
    "Programmers frequently develop code without regard for readability. While code does not have to be readable, Python code must be well-thought-out, consistent, and enjoyable to use. Of course, not every script needs to be beautiful, and beauty is a personal preference, but Python's appeal stems in part from its ease of use.\n",
    "\n",
    "### Explicit is better than implicit.\n",
    "\"This aphorism is self-explanatory,\" as an explanation for any aphorism, would be dreadful. It's also preferable for code to be verbose and explicit. Avoid hiding code's usefulness behind complex language features that require extensive knowledge to fully comprehend.\n",
    "\n",
    "### Simple is better than complex. Complex is better than complicated.\n",
    "These two aphorisms remind us that we can build anything using basic or complex methods. A simple solution is preferable when dealing with a basic problem, such as building a birdhouse. Building a diesel train engine, on the other hand, is a difficult task that necessitates sophisticated methods. Even if you could create a diesel train engine using birdhouse techniques, you'd most likely wind up with a convoluted, Rube Goldberg arrangement of birdhouse pieces that isn't optimal. Prefer simplicity to complexity, but be aware of its limitations.\n",
    "\n",
    "### Flat is better than nested.\n",
    "Programmers enjoy categorizing things, particularly categories that contain subcategories that encompass sub-subcategories. These structures frequently add more bureaucracy than organization. It's OK to have code in a single top-layer module or class rather than several submodules or subclasses. You're making your code overly complicated if you add packages and modules that require code like import spam.eggs.bacon.ham.foo.bar.\n",
    "\n",
    "### Sparse is better than dense.\n",
    "Programmers frequently use one-liners to compress as much functionality as possible into as little code as possible: \n",
    "\n",
    "print('\\n'.join(\"%i bytes = %i bits which has %i possible values.\" % (j, j*8, 256**j-1) for j in (1 << i for i in range(8)))). \n",
    "\n",
    "While this type of code may dazzle their pals, it will enrage their coworkers who must decipher it. Code that is spread out over several lines is frequently easier to read than code that is written in a single line.\n",
    "\n",
    "### Readability counts.\n",
    "While someone who has been programming in C since the 1970s may recognize strcmp() as the \"string compare\" function, modern computers have enough memory to type out the complete function name. Don't exclude vowels from your names or write code that is too terse. Because code is read more often than it is created, it is more vital to have plain, readable code than terse, undocumented code.\n",
    "\n",
    "### Special cases aren’t special enough to break the rules. Although practicality beats purity.\n",
    "These two aphorisms, which come as a set, are in direct opposition to one another. There are many \"best practices\" in programming that programmers should strive towards in their code. It may be tempting to skip these principles in favor of a quick workaround, but this can result in a rat's nest of inconsistent, unreadable code. However, leaning over backwards to follow conventions can result in code that is excessively abstract and illegible. The attempt by the Java programming language to conform all code to its object-oriented paradigm frequently results in a large amount of boilerplate code for even the simplest program. With practice, walking the line between these two aphorisms becomes simpler. You'll eventually understand not only the rules, but also when to break them.\n",
    "\n",
    "### Errors should never pass silently. Unless explicitly silenced.\n",
    "The fact that programmers frequently ignore error signals does not mean the software should stop issuing them. When functions produce error codes or None instead of raising exceptions, silent errors can occur. These two aphorisms state that it is preferable for a program to fail fast and crash rather than to ignore the problem and continue running. Because they are so far removed from the initial cause, later bugs will be more difficult to debug. Though you can always choose to expressly ignore the faults that your programs generate, make sure you're doing it consciously.\n",
    "\n",
    "### In the face of ambiguity, refuse the temptation to guess.\n",
    "Humans have become superstitious as a result of computers: to exorcise the demons in our computers, we execute a sacred rite of turning them off and on. This is supposed to solve any enigmatic issue. Computers, on the other hand, are not magical. If your code isn't functioning, there's a reason for it, and the only way to solve it is by thorough, critical thinking. Refrain from attempting remedies haphazardly until something appears to work; you may have only masked rather than addressed the problem.\n",
    "\n",
    "### There should be one—and preferably only one—obvious way to do it.\n",
    "The motto of the Perl programming language is \"There's more than one way to do it!\" This is a broadside against it. It turns out that having three or four distinct methods to write code that performs the same thing is a double-edged sword: you have more flexibility when writing code, but you also have to learn every potential way to understand it. The extra 3x or 4x work required to learn a programming language isn't worth it.\n",
    "\n",
    "### Although that way may not be obvious at first unless you’re Dutch.\n",
    "This is a sarcastic remark. Python's founder and BDFL (Benevolent Dictator for Life), Guido van Rossum, is a Dutchman. Even this proverb couldn't stop Python from introducing three alternative string formatting methods.\n",
    "\n",
    "### Now is better than never. Although never is often better than *right* now.\n",
    "These two aphorisms indicate that code that hangs or gets stuck in infinite loops is clearly worse than programming that does not. Waiting for your program to finish is nearly always preferable to having it finish too early and produce wrong results.\n",
    "\n",
    "## If the implementation is hard to explain, it’s a bad idea. If the implementation is easy to explain, it may be a good idea\n",
    "Rather than accommodating the machine to make a program run faster, Python aims to make the programmer's work easier. Programs must also be understandable not only by the programmer who created them, but also by other programmers who maintain them. These two aphorisms remind us that \"high-performance\" code is bad code if it's so convoluted that programmers can't comprehend or debug it. But, alas, just because a program's code is simple to describe to someone else doesn't guarantee it's good code. Programming is hard.\n",
    "\n",
    "### Namespaces are one honking great idea—let’s do more of those!\n",
    "Namespaces (together with global and local scopes) are essential for avoiding name conflicts across modules and scopes. But keep in mind that flat is preferable to nested: Namespaces, as useful as they are, should only be used to avoid naming conflicts, not to add unnecessary classification.\n",
    "\n",
    "\n",
    "\n",
    "The opinions I've written here, like any ideas regarding programming, can be argued against or may just be irrelevant to your case. Arguing about how to write code is rarely as fruitful as you may expect. (Unless, of course, you're writing a book about programming.)"
   ]
  },
  {
   "cell_type": "markdown",
   "metadata": {},
   "source": []
  }
 ],
 "metadata": {
  "interpreter": {
   "hash": "fa5056459b76673ea59a34fa692657aea2741a3964a370c0f5008e388b4c47ca"
  },
  "kernelspec": {
   "display_name": "Python 3 (ipykernel)",
   "language": "python",
   "name": "python3"
  },
  "language_info": {
   "codemirror_mode": {
    "name": "ipython",
    "version": 3
   },
   "file_extension": ".py",
   "mimetype": "text/x-python",
   "name": "python",
   "nbconvert_exporter": "python",
   "pygments_lexer": "ipython3",
   "version": "3.8.9"
  }
 },
 "nbformat": 4,
 "nbformat_minor": 2
}
