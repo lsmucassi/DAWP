{
 "cells": [
  {
   "cell_type": "markdown",
   "metadata": {},
   "source": [
    "# Environment Setup\n",
    "Before we can explore and learn Python's syntax let us install Python and run \n",
    "\n",
    "### Installations\n",
    "Python: You can find the installation guide for python depending on the operating system you are using here PythpnInstallation\n",
    "\n",
    "Text Editor/IDE: To better work with python we will need an interactive tool to allow us to view and edit python files, there are many tools to do such, some are text editors such as vim and some are IDE such as PyCharm, here is a list\n",
    "\n",
    "- Vim: (https://www.vim.org/)\n",
    "- VS Code: Visual Studio Code (https://code.visualstudio.com/) (Recommended)\n",
    "- PyCharm: (https://www.jetbrains.com/pycharm/)\n",
    "- Atom: (https://atom.io/)\n",
    "- Spyder: (https://www.spyder-ide.org/)\n",
    "- Anaconda: (https://www.anaconda.com/)\n",
    "- Jupyter Notebook: (https://jupyter.org/)\n",
    "- Jupyter Notebook for VSCode: (https://code.visualstudio.com/docs/datascience/jupyter-notebooks) \n",
    "> Jupyter Notebook: We are going to install something called jupyter notebook, but for now we will just install and forget about it until; later in the course. You can either install jupyter notebook or install anaconda\n",
    "- More: (https://www.vim.org/)"
   ]
  },
  {
   "cell_type": "markdown",
   "metadata": {},
   "source": [
    "Make sure that the below tools are installed in your sytems too\n",
    "\n",
    "- [ ] - Python 3.8 or later \n",
    "- [ ] - Text Editor/IDE - (VS Code recommended, others are Atom, Spyder, PyCharm) \n",
    "- [ ] - git cli tool \n",
    "- [ ] - git account\n",
    "\n",
    "\n",
    "Once All this is installed we are good to start with the basics of python programming"
   ]
  },
  {
   "cell_type": "markdown",
   "metadata": {},
   "source": []
  }
 ],
 "metadata": {
  "interpreter": {
   "hash": "31f2aee4e71d21fbe5cf8b01ff0e069b9275f58929596ceb00d14d90e3e16cd6"
  },
  "kernelspec": {
   "display_name": "Python 3.8.9 64-bit",
   "language": "python",
   "name": "python3"
  },
  "language_info": {
   "name": "python",
   "version": "3.8.9"
  },
  "orig_nbformat": 4
 },
 "nbformat": 4,
 "nbformat_minor": 2
}
