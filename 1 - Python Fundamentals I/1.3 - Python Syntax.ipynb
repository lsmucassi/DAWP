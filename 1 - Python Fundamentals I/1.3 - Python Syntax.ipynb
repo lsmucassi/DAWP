{
 "cells": [
  {
   "cell_type": "markdown",
   "metadata": {},
   "source": [
    "# Python Syntax\n",
    "The Python programming language's syntax is a set of rules that describe how a Python program is written and understood (by both the runtime system and by human readers). Python shares a lot of similarities with Perl, C, and Java. There are, nevertheless, some clear distinctions between the languages.\n",
    "\n",
    "### Indentation\n",
    "Whitespace is used to separate control flow blocks in Python (following the off-side rule). Python borrows this feature from its precursor ABC: indentation is used to mark the run of a block instead of punctuation or keywords.\n",
    "\n",
    "Blocks of code are separated by brackets () or keywords in so-called \"free-format\" languages that use the block structure evolved from ALGOL. Most programmers indent the code within a block to visually separate it from the surrounding code in most of these languages' coding styles.\n",
    "\n",
    "A recursive function named foo, which is passed a single argument, x, and which, if the parameter is 0, calls another function named bar and, if the parameter is not 0, calls baz, passing x, and also calls itself recursively, passing x-1 as the parameter, may be implemented as follows:"
   ]
  },
  {
   "cell_type": "code",
   "execution_count": 2,
   "metadata": {},
   "outputs": [],
   "source": [
    "def foo(x):\n",
    "    if x == 0:\n",
    "        print(x)\n",
    "    else:\n",
    "        print(x)\n",
    "        foo(x - 1)"
   ]
  },
  {
   "cell_type": "code",
   "execution_count": 3,
   "metadata": {
    "vscode": {
     "languageId": "cpp"
    }
   },
   "outputs": [
    {
     "ename": "SyntaxError",
     "evalue": "invalid syntax (2722307490.py, line 1)",
     "output_type": "error",
     "traceback": [
      "\u001b[0;36m  Input \u001b[0;32mIn [3]\u001b[0;36m\u001b[0m\n\u001b[0;31m    // # the same code can be written similarly in C like this:\u001b[0m\n\u001b[0m    ^\u001b[0m\n\u001b[0;31mSyntaxError\u001b[0m\u001b[0;31m:\u001b[0m invalid syntax\n"
     ]
    }
   ],
   "source": [
    "// the same code can be written similarly in C like this:\n",
    "void foo(int x) {\n",
    "    if (x == 0) {\n",
    "        bar();\n",
    "    } else {\n",
    "        baz(x);\n",
    "        foo(x - 1);\n",
    "    }\n",
    "}"
   ]
  },
  {
   "cell_type": "code",
   "execution_count": null,
   "metadata": {
    "vscode": {
     "languageId": "javascript"
    }
   },
   "outputs": [],
   "source": []
  }
 ],
 "metadata": {
  "interpreter": {
   "hash": "31f2aee4e71d21fbe5cf8b01ff0e069b9275f58929596ceb00d14d90e3e16cd6"
  },
  "kernelspec": {
   "display_name": "Python 3.8.9 64-bit",
   "language": "python",
   "name": "python3"
  },
  "language_info": {
   "codemirror_mode": {
    "name": "ipython",
    "version": 3
   },
   "file_extension": ".py",
   "mimetype": "text/x-python",
   "name": "python",
   "nbconvert_exporter": "python",
   "pygments_lexer": "ipython3",
   "version": "3.8.9"
  },
  "orig_nbformat": 4
 },
 "nbformat": 4,
 "nbformat_minor": 2
}
