{
 "cells": [
  {
   "cell_type": "markdown",
   "metadata": {},
   "source": [
    "# Command-Line Interfaces\n",
    "In most cases, well actually 80%+ of the time when working with code you get to interact with the computer using something called the cli/console/terminal/cmd, depending on the Operating System you are using the terms vary. It is essential to understand how commands work as in most cases you will need to install something on the command line prompt, or even output your code on it.\n",
    "\n",
    "Python Shell\n",
    "The python shell is a program that allows you to run python on the terminal without the use of files, it is primarily invoked on the terminal once python is installed on your machine you can run python to start the python shell.\n",
    "\n",
    "- On windows, once python has been installed open CMD/Powershell, On MacOs open terminal\n",
    "- write the word python and pres enter on your keyboard"
   ]
  },
  {
   "cell_type": "code",
   "execution_count": null,
   "metadata": {
    "vscode": {
     "languageId": "bat"
    }
   },
   "outputs": [],
   "source": [
    "[16:36:33] Users/TheTerminalSchool:~ $ python\n",
    "WARNING: Python 2.7 is not recommended.\n",
    "This version is included in macOS for compatibility with legacy software.\n",
    "Future versions of macOS will not include Python 2.7.\n",
    "Instead, it is recommended that you transition to using 'python3' from within Terminal.\n",
    "\n",
    "Python 2.7.18 (default, Nov 13 2021, 06:17:34)\n",
    "[GCC Apple LLVM 13.0.0 (clang-1300.0.29.10) [+internal-os, ptrauth-isa=deployme on darwin\n",
    "Type \"help\", \"copyright\", \"credits\" or \"license\" for more information.\n",
    ">>>"
   ]
  },
  {
   "cell_type": "markdown",
   "metadata": {},
   "source": [
    "as you can see the shell started with a WARNING, to start the shell using the latest version we need to specify the current version"
   ]
  },
  {
   "cell_type": "code",
   "execution_count": null,
   "metadata": {
    "vscode": {
     "languageId": "bat"
    }
   },
   "outputs": [],
   "source": [
    "[16:36:33] Users/TheTerminalSchool:~ $ python3\n",
    "Python 3.8.9 (default, Oct 26 2021, 07:25:53)\n",
    "[Clang 13.0.0 (clang-1300.0.29.30)] on darwin\n",
    "Type \"help\", \"copyright\", \"credits\" or \"license\" for more information.\n",
    ">>>"
   ]
  },
  {
   "cell_type": "markdown",
   "metadata": {},
   "source": [
    "Now the shell started using version 3 of python, let us now write a simple python code"
   ]
  },
  {
   "cell_type": "code",
   "execution_count": 3,
   "metadata": {
    "vscode": {
     "languageId": "shellscript"
    }
   },
   "outputs": [
    {
     "ename": "SyntaxError",
     "evalue": "invalid syntax (1729991526.py, line 1)",
     "output_type": "error",
     "traceback": [
      "\u001b[0;36m  Input \u001b[0;32mIn [3]\u001b[0;36m\u001b[0m\n\u001b[0;31m    [16:36:33] Users/TheTerminalSchool:~ $ python3\u001b[0m\n\u001b[0m       ^\u001b[0m\n\u001b[0;31mSyntaxError\u001b[0m\u001b[0;31m:\u001b[0m invalid syntax\n"
     ]
    }
   ],
   "source": [
    "[16:36:33] Users/TheTerminalSchool:~ $ python3\n",
    "Python 3.8.9 (default, Oct 26 2021, 07:25:53)\n",
    "[Clang 13.0.0 (clang-1300.0.29.30)] on darwin\n",
    "Type \"help\", \"copyright\", \"credits\" or \"license\" for more information.\n",
    ">>> print(\"Hello, World\")\n",
    "Hello, World\n",
    ">>> num = 50\n",
    ">>> num = num - 8\n",
    ">>> print(num)\n",
    "42\n",
    ">>>exit()\n",
    "[16:46:39] Users/TheTerminalSchool:~ $"
   ]
  },
  {
   "cell_type": "markdown",
   "metadata": {},
   "source": [
    "There!, we printed a simple phrase \"Hello, World\" and wrote some arithmetic calculations then exited back to our command prompt using the shell's exit function.\n",
    "\n",
    "However, once you exit the shell you lose all the work you have done and you can not access it anywhere as it was just saved in memory, not on storage/file.\n",
    "\n",
    "Shortly we will dive into writing code in a .py file and in a .ipynb file\n",
    "\n",
    "\n",
    "\n",
    "CLI Commands\n",
    "As you may be able to tell, python was used as a command to start the Python Shell, a general syntax for commands is:\n",
    "\n",
    "[command] -[flag(s)] [executable/file/path]\n",
    "\n",
    "- [command]: The command you use to run a program or a tool, can be built-in or installed \n",
    "- -[flag(s)] / --[flag(s)]: a key that describes how you wish to run the command, not all commands uses a flag\n",
    "- [executable/file/path] - the file, path, or binary that the command is applied to, some commands does not require this\n",
    "We can use python to run a .py file containing python code on the cli"
   ]
  },
  {
   "cell_type": "code",
   "execution_count": 6,
   "metadata": {
    "vscode": {
     "languageId": "shellscript"
    }
   },
   "outputs": [
    {
     "ename": "SyntaxError",
     "evalue": "invalid syntax (274286516.py, line 1)",
     "output_type": "error",
     "traceback": [
      "\u001b[0;36m  Input \u001b[0;32mIn [6]\u001b[0;36m\u001b[0m\n\u001b[0;31m    [17:08:35] TheTerminalSchool:-$ python3 hello.py\u001b[0m\n\u001b[0m       ^\u001b[0m\n\u001b[0;31mSyntaxError\u001b[0m\u001b[0;31m:\u001b[0m invalid syntax\n"
     ]
    }
   ],
   "source": [
    "[17:08:35] TheTerminalSchool:-$ python3 hello.py\n",
    "\n",
    "Hello, World"
   ]
  },
  {
   "cell_type": "markdown",
   "metadata": {},
   "source": [
    "As shown above, the file contain a print statement and the command was able to execute the file and display the print content\n",
    "\n",
    "\n",
    "\n",
    "Here are more commands that will come in handy in the future. I hope you are using a Linux or Unix-based Operating System, if not a tool called GitBash would be a great help, or at least the new PowerShell from Windows.\n",
    "\n",
    "cd: change directory (directory: Folder). Can be used in both Windows and Linux, Used to move between folders ( going back and forth): Syntax: cd path (foldername or actual path)\n",
    "dir: directory - lists the contents of a directory(ls on Linux): Syntax: dir\n",
    "cls: clear screen - clears the terminal screen on windows, clear is the equivalent of cls on linux\n",
    "Syntax: cls\n",
    "mkdir: make directory - used to create folders\n",
    "Syntax: mkdir FolderName\n",
    "mv: moving and renaming folder and files\n",
    "Syntax: mv OriginalFile FileToRenameTo (renaming)\n",
    "Syntax: mv OriginalPath PathToMoveTo (moving)\n",
    "command to create files*\n",
    "touch filename.ipynb/filename.py\n",
    "command to view files*\n",
    "Print in terminal: python name_of_file.py\n",
    "command to remove files - rm filename\n",
    "command to open Jupyter Notebook: jupyter notebook\n",
    "command (flag— start with a dash) to remove folders: rm -r foldername\n",
    "command to open Jupyter notebook in the current folder or anywhere else*"
   ]
  },
  {
   "cell_type": "markdown",
   "metadata": {},
   "source": [
    "As you have seen in the previous task we opened the Python shell using the python command, the python command can be used to also run python scripts. There are many other commands that are useful, here is a list of the most common commands.\n",
    "\n",
    "\n",
    "$ cat oceans.txt > continents.txt\n",
    "> takes the standard output of the command on the left and redirects it to the file on the right.\n",
    "\n",
    "$ cat glaciers.txt >> rivers.txt\n",
    ">> takes the standard output of the command on the left and appends (adds) it to the file on the right.\n",
    "\n",
    "$ cat < lakes.txt\n",
    "< takes the standard input from the file on the right and inputs it into the program on the left.\n",
    "\n",
    "$ cat volcanoes.txt | wc\n",
    "| is a “pipe”. The | takes the standard output of the command on the left, and pipes it as standard input to the command on the right. You can think of this as “command to command” redirection.\n",
    "\n",
    "$ cd Desktop/\n",
    "cd takes a directory name as an argument, and switches into that directory.\n",
    "\n",
    "$ cd jan/memory\n",
    "To navigate directly to a directory, use cd with the directory’s path as an argument. Here, cd jan/memory/ command navigates directly to the jan/memory directory.\n",
    "\n",
    "$ cd ..\n",
    "To move up one directory, use cd ... Here, cd .. navigates up from jan/memory/ to jan/.\n",
    "\n",
    "$ cp ada_lovelace.txt historical/\n",
    "cp copies files or directories. Here, we copy the file ada_lovelace.txt and place it in the historical/"
   ]
  },
  {
   "cell_type": "markdown",
   "metadata": {},
   "source": [
    "$ cp * satire/\n",
    "The wildcard * selects all of the files in the current directory. The above example will copy all of the files in the current directory to the directory called satire. There are other types of wildcards, too, which are beyond the scope of this glossary.\n",
    "\n",
    "$ cp m*.txt scifi/\n",
    "Here, m*.txt selects all files in the working directory starting with “m” and ending with “.txt”, and copies them to scifi/.\n",
    "\n",
    "$ grep \"Mount\" mountains.txt\n",
    "grep stands for “global regular expression print”. It searches files for lines that match a pattern and returns the results. It is case sensitive.\n",
    "\n",
    "$ grep -i \"Mount\" mountains.txt\n",
    "grep -i enables the command to be case insensitive.\n",
    "\n",
    "$ grep -R Arctic /home/ccuser/workspace/geography\n",
    "grep -R searches all files in a directory and outputs filenames and lines containing matched results. -R stands for “recursive”.\n",
    "\n",
    "$ grep -Rl Arctic /home/ccuser/workspace/geography\n",
    "grep -Rl searches all files in a directory and outputs only filenames with matched results. -R stands for “recursive” and l stands for “files with matches”.\n",
    "\n",
    "$ touch data.txt\n",
    "touch creates a new file inside the working directory. It takes in a file name as an argument, and then creates a new empty file in the current working directory. Here we used touch to create a new file named keyboard.txt inside the 2014/dec/ directory.\n",
    "\n",
    "If the file exists, touch is used to update the modification time of the file"
   ]
  },
  {
   "cell_type": "markdown",
   "metadata": {},
   "source": [
    "$ mkdir media\n",
    "mkdir takes in a directory name as an argument, and then creates a new directory in the current working directory. Here we used mkdir to create a new directory named media/.\n",
    "\n",
    "$ mv superman.txt superhero/\n",
    "To move a file into a directory, use mv with the source file as the first argument and the destination directory as the second argument. Here we move superman.txt into superhero/.\n",
    "\n",
    "$ ls\n",
    "2014  2015  hardware.txt\n",
    "ls lists all files and directories in the working directory\n",
    "\n",
    "$ ls -a\n",
    ".  ..  .preferences  action  drama comedy  genres.xt\n",
    "ls -a lists all contents in the working directory, including hidden files and directories\n",
    "\n",
    "$ pwd\n",
    "/home/ccuser/workspace/blog\n",
    "pwd prints the name of the working directory\n",
    "\n",
    "$ rm waterboy.txt\n",
    "rm deletes files. Here we remove the file waterboy.txt from the file system.\n",
    "\n",
    "$ rm -r comedy\n",
    "rm -r deletes a directory and all of its child directories."
   ]
  },
  {
   "cell_type": "markdown",
   "metadata": {},
   "source": [
    "There are more commands that you can use and explore, please do find them out\n",
    "\n",
    "\n",
    "\n",
    "https://www.codecademy.com/article/command-line-commands"
   ]
  },
  {
   "cell_type": "markdown",
   "metadata": {},
   "source": []
  }
 ],
 "metadata": {
  "interpreter": {
   "hash": "31f2aee4e71d21fbe5cf8b01ff0e069b9275f58929596ceb00d14d90e3e16cd6"
  },
  "kernelspec": {
   "display_name": "Python 3.8.9 64-bit",
   "language": "python",
   "name": "python3"
  },
  "language_info": {
   "codemirror_mode": {
    "name": "ipython",
    "version": 3
   },
   "file_extension": ".py",
   "mimetype": "text/x-python",
   "name": "python",
   "nbconvert_exporter": "python",
   "pygments_lexer": "ipython3",
   "version": "3.8.9"
  },
  "orig_nbformat": 4
 },
 "nbformat": 4,
 "nbformat_minor": 2
}
